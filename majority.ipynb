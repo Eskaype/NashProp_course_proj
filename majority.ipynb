{
 "cells": [
  {
   "cell_type": "code",
   "execution_count": 1,
   "metadata": {},
   "outputs": [],
   "source": [
    "import numpy as np\n",
    "import itertools"
   ]
  },
  {
   "cell_type": "code",
   "execution_count": 2,
   "metadata": {},
   "outputs": [],
   "source": [
    "n=5\n",
    "#Strategy 0 is cooperating,1 is defecting to the left, 2 is defecting to the right\n",
    "strategy=[]\n",
    "payoff=[]"
   ]
  },
  {
   "cell_type": "code",
   "execution_count": 3,
   "metadata": {},
   "outputs": [
    {
     "data": {
      "text/plain": [
       "[[0, 1, 0],\n",
       " [0, 1, 1],\n",
       " [0, 0, 1],\n",
       " [0, 0, 0],\n",
       " [1, 0, 0],\n",
       " [1, 0, 1],\n",
       " [1, 1, 0],\n",
       " [1, 1, 1]]"
      ]
     },
     "execution_count": 3,
     "metadata": {},
     "output_type": "execute_result"
    }
   ],
   "source": [
    "def generate_strategy_permutations(n=3):\n",
    "    s_all=[]\n",
    "    for _ in range(n):\n",
    "        s_all.extend([0,1])\n",
    "    s=itertools.permutations(s_all,n)\n",
    "    strategy=[]\n",
    "    for s_ in s:\n",
    "        v=list(s_)\n",
    "        if v not in strategy:\n",
    "            strategy.append(v)\n",
    "    return strategy"
   ]
  },
  {
   "cell_type": "code",
   "execution_count": 5,
   "metadata": {},
   "outputs": [
    {
     "name": "stdout",
     "output_type": "stream",
     "text": [
      "('payoffs', [4, 4, 4, 4, 4])\n"
     ]
    }
   ],
   "source": [
    "def generate_payoffs_basic(strategy,n,payoffcc,payoffc,payoffd,payoffdd):\n",
    "    payoffs=[0 for _ in range(n)]\n",
    "    defs=[i for i,val in enumerate(strategy) if val==0]\n",
    "    coops=[i for i,val in enumerate(strategy) if val==1]\n",
    "    n_0=len(defs)\n",
    "    n_1=len(coops)\n",
    "    if(n_0==0):\n",
    "        payoffs=[payoffdd for _ in range(n)]\n",
    "    elif(n_1==0):\n",
    "        payoffs=[payoffcc for _ in range(n)]\n",
    "    else:\n",
    "        for d in defs:\n",
    "            payoffs[d]=payoffd\n",
    "        for c in coops:\n",
    "            payoffs[c]=payoffc\n",
    "    print(\"payoffs\",payoffs)\n",
    "    return payoffs\n",
    "generate_payoffs([0,0,0,0,0],5,4,-1,3,2)"
   ]
  },
  {
   "cell_type": "code",
   "execution_count": null,
   "metadata": {},
   "outputs": [],
   "source": []
  }
 ],
 "metadata": {
  "kernelspec": {
   "display_name": "Python 2",
   "language": "python",
   "name": "python2"
  },
  "language_info": {
   "codemirror_mode": {
    "name": "ipython",
    "version": 2
   },
   "file_extension": ".py",
   "mimetype": "text/x-python",
   "name": "python",
   "nbconvert_exporter": "python",
   "pygments_lexer": "ipython2",
   "version": "2.7.13"
  }
 },
 "nbformat": 4,
 "nbformat_minor": 2
}
